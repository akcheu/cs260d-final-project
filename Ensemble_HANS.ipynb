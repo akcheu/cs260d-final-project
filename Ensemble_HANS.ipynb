{
  "cells": [
    {
      "cell_type": "markdown",
      "metadata": {},
      "source": [
        "# Ensemble Fine-tuned Models (BERT, ALBERT, RoBERTa) on HANS Test"
      ]
    },
    {
      "cell_type": "markdown",
      "metadata": {},
      "source": [
        "### Load Libraries, Check Hardware"
      ]
    },
    {
      "cell_type": "code",
      "execution_count": 1,
      "metadata": {
        "id": "JQ4M8Znd4_ep"
      },
      "outputs": [],
      "source": [
        "import pandas as pd\n",
        "import torch\n",
        "import numpy as np\n",
        "from torch.utils.data import Dataset, TensorDataset, DataLoader, SequentialSampler, RandomSampler\n",
        "from torch.nn.utils.rnn import pad_sequence"
      ]
    },
    {
      "cell_type": "code",
      "execution_count": 2,
      "metadata": {},
      "outputs": [
        {
          "name": "stdout",
          "output_type": "stream",
          "text": [
            "Sat Dec 16 07:32:48 2023       \n",
            "+-----------------------------------------------------------------------------+\n",
            "| NVIDIA-SMI 525.105.17   Driver Version: 525.105.17   CUDA Version: 12.0     |\n",
            "|-------------------------------+----------------------+----------------------+\n",
            "| GPU  Name        Persistence-M| Bus-Id        Disp.A | Volatile Uncorr. ECC |\n",
            "| Fan  Temp  Perf  Pwr:Usage/Cap|         Memory-Usage | GPU-Util  Compute M. |\n",
            "|                               |                      |               MIG M. |\n",
            "|===============================+======================+======================|\n",
            "|   0  Tesla V100-SXM2...  On   | 00000000:00:04.0 Off |                    0 |\n",
            "| N/A   33C    P0    27W / 300W |      0MiB / 16384MiB |      0%      Default |\n",
            "|                               |                      |                  N/A |\n",
            "+-------------------------------+----------------------+----------------------+\n",
            "                                                                               \n",
            "+-----------------------------------------------------------------------------+\n",
            "| Processes:                                                                  |\n",
            "|  GPU   GI   CI        PID   Type   Process name                  GPU Memory |\n",
            "|        ID   ID                                                   Usage      |\n",
            "|=============================================================================|\n",
            "|  No running processes found                                                 |\n",
            "+-----------------------------------------------------------------------------+\n"
          ]
        }
      ],
      "source": [
        "!nvidia-smi"
      ]
    },
    {
      "cell_type": "code",
      "execution_count": 3,
      "metadata": {
        "colab": {
          "base_uri": "https://localhost:8080/"
        },
        "id": "WkpfPDS1Z8a8",
        "outputId": "3219bc62-f97b-499f-a28a-0379e1560f71"
      },
      "outputs": [
        {
          "name": "stdout",
          "output_type": "stream",
          "text": [
            "cuda:0\n"
          ]
        }
      ],
      "source": [
        "device = torch.device(\"cuda:0\" if torch.cuda.is_available() else \"cpu\")\n",
        "print(device)"
      ]
    },
    {
      "cell_type": "markdown",
      "metadata": {},
      "source": [
        "### Load Full Model (393K) checkpoints"
      ]
    },
    {
      "cell_type": "code",
      "execution_count": 4,
      "metadata": {
        "colab": {
          "base_uri": "https://localhost:8080/"
        },
        "id": "qOdc4Cs2DEjt",
        "outputId": "98759f4f-ead1-4b1d-c20c-0ce4996de3ed"
      },
      "outputs": [
        {
          "data": {
            "text/plain": [
              "RobertaForSequenceClassification(\n",
              "  (roberta): RobertaModel(\n",
              "    (embeddings): RobertaEmbeddings(\n",
              "      (word_embeddings): Embedding(50265, 768, padding_idx=1)\n",
              "      (position_embeddings): Embedding(514, 768, padding_idx=1)\n",
              "      (token_type_embeddings): Embedding(1, 768)\n",
              "      (LayerNorm): LayerNorm((768,), eps=1e-05, elementwise_affine=True)\n",
              "      (dropout): Dropout(p=0.1, inplace=False)\n",
              "    )\n",
              "    (encoder): RobertaEncoder(\n",
              "      (layer): ModuleList(\n",
              "        (0-11): 12 x RobertaLayer(\n",
              "          (attention): RobertaAttention(\n",
              "            (self): RobertaSelfAttention(\n",
              "              (query): Linear(in_features=768, out_features=768, bias=True)\n",
              "              (key): Linear(in_features=768, out_features=768, bias=True)\n",
              "              (value): Linear(in_features=768, out_features=768, bias=True)\n",
              "              (dropout): Dropout(p=0.1, inplace=False)\n",
              "            )\n",
              "            (output): RobertaSelfOutput(\n",
              "              (dense): Linear(in_features=768, out_features=768, bias=True)\n",
              "              (LayerNorm): LayerNorm((768,), eps=1e-05, elementwise_affine=True)\n",
              "              (dropout): Dropout(p=0.1, inplace=False)\n",
              "            )\n",
              "          )\n",
              "          (intermediate): RobertaIntermediate(\n",
              "            (dense): Linear(in_features=768, out_features=3072, bias=True)\n",
              "            (intermediate_act_fn): GELUActivation()\n",
              "          )\n",
              "          (output): RobertaOutput(\n",
              "            (dense): Linear(in_features=3072, out_features=768, bias=True)\n",
              "            (LayerNorm): LayerNorm((768,), eps=1e-05, elementwise_affine=True)\n",
              "            (dropout): Dropout(p=0.1, inplace=False)\n",
              "          )\n",
              "        )\n",
              "      )\n",
              "    )\n",
              "  )\n",
              "  (classifier): RobertaClassificationHead(\n",
              "    (dense): Linear(in_features=768, out_features=768, bias=True)\n",
              "    (dropout): Dropout(p=0.1, inplace=False)\n",
              "    (out_proj): Linear(in_features=768, out_features=3, bias=True)\n",
              "  )\n",
              ")"
            ]
          },
          "execution_count": 4,
          "metadata": {},
          "output_type": "execute_result"
        }
      ],
      "source": [
        "from transformers import BertForSequenceClassification, AlbertForSequenceClassification, RobertaForSequenceClassification\n",
        "\n",
        "bert = BertForSequenceClassification.from_pretrained('/home/allen/other/BERT_Full', num_labels=3)\n",
        "bert.to(device)\n",
        "albert = AlbertForSequenceClassification.from_pretrained(\"/home/allen/other/ALBERT_Full\", num_labels=3)\n",
        "albert.to(device)\n",
        "roberta = RobertaForSequenceClassification.from_pretrained(\"/home/allen/other/RoBERTa_Full\", num_labels=3)\n",
        "roberta.to(device)"
      ]
    },
    {
      "cell_type": "markdown",
      "metadata": {},
      "source": [
        "### Load HANS Dataset and Define Dataloaders"
      ]
    },
    {
      "cell_type": "code",
      "execution_count": 5,
      "metadata": {},
      "outputs": [
        {
          "name": "stderr",
          "output_type": "stream",
          "text": [
            "2023-12-16 07:33:18.068474: I tensorflow/core/platform/cpu_feature_guard.cc:182] This TensorFlow binary is optimized to use available CPU instructions in performance-critical operations.\n",
            "To enable the following instructions: AVX2 FMA, in other operations, rebuild TensorFlow with the appropriate compiler flags.\n"
          ]
        }
      ],
      "source": [
        "from nlp import load_dataset\n",
        "hans_dataset = load_dataset(\"hans\")"
      ]
    },
    {
      "cell_type": "code",
      "execution_count": 6,
      "metadata": {},
      "outputs": [],
      "source": [
        "from transformers import BertTokenizer, AlbertTokenizer, RobertaTokenizer\n",
        "bert_tokenizer = BertTokenizer.from_pretrained('bert-base-uncased', do_lower_case=True)\n",
        "albert_tokenizer = AlbertTokenizer.from_pretrained('albert-base-v2', do_lower_case=True)\n",
        "roberta_tokenizer = RobertaTokenizer.from_pretrained('roberta-base', do_lower_case=True)"
      ]
    },
    {
      "cell_type": "code",
      "execution_count": 7,
      "metadata": {},
      "outputs": [
        {
          "data": {
            "application/vnd.jupyter.widget-view+json": {
              "model_id": "b5f8a37d74e24ba3a50e3f36e9aa49dc",
              "version_major": 2,
              "version_minor": 0
            },
            "text/plain": [
              "  0%|          | 0/30 [00:00<?, ?it/s]"
            ]
          },
          "metadata": {},
          "output_type": "display_data"
        },
        {
          "data": {
            "application/vnd.jupyter.widget-view+json": {
              "model_id": "7fc44cbc0e8946219fe05a614a9f2a39",
              "version_major": 2,
              "version_minor": 0
            },
            "text/plain": [
              "  0%|          | 0/30 [00:00<?, ?it/s]"
            ]
          },
          "metadata": {},
          "output_type": "display_data"
        },
        {
          "data": {
            "application/vnd.jupyter.widget-view+json": {
              "model_id": "b9dfb129d69b43fc8c7cc5276cdacc06",
              "version_major": 2,
              "version_minor": 0
            },
            "text/plain": [
              "  0%|          | 0/30 [00:00<?, ?it/s]"
            ]
          },
          "metadata": {},
          "output_type": "display_data"
        },
        {
          "data": {
            "application/vnd.jupyter.widget-view+json": {
              "model_id": "ebc5388eaa3c43c18d76bc2f0a362eae",
              "version_major": 2,
              "version_minor": 0
            },
            "text/plain": [
              "  0%|          | 0/30 [00:00<?, ?it/s]"
            ]
          },
          "metadata": {},
          "output_type": "display_data"
        },
        {
          "data": {
            "application/vnd.jupyter.widget-view+json": {
              "model_id": "0873115a894a45299c3bcd0fa13ccca3",
              "version_major": 2,
              "version_minor": 0
            },
            "text/plain": [
              "  0%|          | 0/30 [00:00<?, ?it/s]"
            ]
          },
          "metadata": {},
          "output_type": "display_data"
        },
        {
          "data": {
            "application/vnd.jupyter.widget-view+json": {
              "model_id": "09515cb722414af1978e0b6da8461875",
              "version_major": 2,
              "version_minor": 0
            },
            "text/plain": [
              "  0%|          | 0/30 [00:00<?, ?it/s]"
            ]
          },
          "metadata": {},
          "output_type": "display_data"
        }
      ],
      "source": [
        "def bert_tokenize_function(examples):\n",
        "    return bert_tokenizer(examples[\"premise\"], examples[\"hypothesis\"], truncation=True, padding=True)\n",
        "\n",
        "def albert_tokenize_function(examples):\n",
        "    return albert_tokenizer(examples[\"premise\"], examples[\"hypothesis\"], truncation=True, padding=True)\n",
        "\n",
        "def roberta_tokenize_function(examples):\n",
        "    return roberta_tokenizer(examples[\"premise\"], examples[\"hypothesis\"], truncation=True, padding=True)\n",
        "\n",
        "bert_tokenized_hans = hans_dataset.map(bert_tokenize_function, batched=True)\n",
        "albert_tokenized_hans = hans_dataset.map(albert_tokenize_function, batched=True)\n",
        "roberta_tokenized_hans = hans_dataset.map(roberta_tokenize_function, batched=True)"
      ]
    },
    {
      "cell_type": "code",
      "execution_count": 8,
      "metadata": {},
      "outputs": [],
      "source": [
        "from torch.utils.data import DataLoader\n",
        "bert_tokenized_hans.set_format(type='torch', columns=['input_ids', 'attention_mask', 'label'])\n",
        "albert_tokenized_hans.set_format(type='torch', columns=['input_ids', 'attention_mask', 'label'])\n",
        "roberta_tokenized_hans.set_format(type='torch', columns=['input_ids', 'attention_mask', 'label'])"
      ]
    },
    {
      "cell_type": "code",
      "execution_count": 9,
      "metadata": {},
      "outputs": [],
      "source": [
        "from torch.nn.utils.rnn import pad_sequence\n",
        "\n",
        "def bert_collate_batch(batch):\n",
        "    input_ids = [item['input_ids'] for item in batch]\n",
        "    attention_mask = [item['attention_mask'] for item in batch]\n",
        "    labels = [item['label'] for item in batch]\n",
        "\n",
        "    input_ids = pad_sequence(input_ids, batch_first=True, padding_value=bert_tokenizer.pad_token_id)\n",
        "    attention_mask = pad_sequence(attention_mask, batch_first=True, padding_value=0)\n",
        "    labels = torch.tensor(labels)\n",
        "\n",
        "    return {\n",
        "        'input_ids': input_ids,\n",
        "        'attention_mask': attention_mask,\n",
        "        'labels': labels\n",
        "    }\n",
        "\n",
        "def albert_collate_batch(batch):\n",
        "    input_ids = [item['input_ids'] for item in batch]\n",
        "    attention_mask = [item['attention_mask'] for item in batch]\n",
        "    labels = [item['label'] for item in batch]\n",
        "\n",
        "    input_ids = pad_sequence(input_ids, batch_first=True, padding_value=albert_tokenizer.pad_token_id)\n",
        "    attention_mask = pad_sequence(attention_mask, batch_first=True, padding_value=0)\n",
        "    labels = torch.tensor(labels)\n",
        "\n",
        "    return {\n",
        "        'input_ids': input_ids,\n",
        "        'attention_mask': attention_mask,\n",
        "        'labels': labels\n",
        "    }\n",
        "\n",
        "\n",
        "def roberta_collate_batch(batch):\n",
        "    input_ids = [item['input_ids'] for item in batch]\n",
        "    attention_mask = [item['attention_mask'] for item in batch]\n",
        "    labels = [item['label'] for item in batch]\n",
        "\n",
        "    input_ids = pad_sequence(input_ids, batch_first=True, padding_value=roberta_tokenizer.pad_token_id)\n",
        "    attention_mask = pad_sequence(attention_mask, batch_first=True, padding_value=0)\n",
        "    labels = torch.tensor(labels)\n",
        "\n",
        "    return {\n",
        "        'input_ids': input_ids,\n",
        "        'attention_mask': attention_mask,\n",
        "        'labels': labels\n",
        "    }\n"
      ]
    },
    {
      "cell_type": "code",
      "execution_count": 10,
      "metadata": {},
      "outputs": [],
      "source": [
        "bert_hans_loader = DataLoader(bert_tokenized_hans['validation'], batch_size=32, collate_fn=bert_collate_batch)\n",
        "albert_hans_loader = DataLoader(bert_tokenized_hans['validation'], batch_size=32, collate_fn=albert_collate_batch)\n",
        "roberta_hans_loader = DataLoader(bert_tokenized_hans['validation'], batch_size=32, collate_fn=roberta_collate_batch)"
      ]
    },
    {
      "cell_type": "markdown",
      "metadata": {},
      "source": [
        "### Test Single Models"
      ]
    },
    {
      "cell_type": "code",
      "execution_count": 15,
      "metadata": {},
      "outputs": [],
      "source": [
        "import pandas as pd\n",
        "import torch\n",
        "from sklearn.metrics import accuracy_score\n",
        "from tqdm import tqdm\n",
        "\n",
        "def evaluate_model(model, data_loader):\n",
        "    model.eval() \n",
        "    all_predictions = []\n",
        "    all_labels = []\n",
        "\n",
        "    with torch.no_grad():\n",
        "        for batch in tqdm(data_loader, total=len(data_loader)):\n",
        "            input_ids = batch['input_ids'].to(device)\n",
        "            attention_mask = batch['attention_mask'].to(device)\n",
        "            labels = batch['labels'].to(device)\n",
        "\n",
        "            outputs = model(input_ids=input_ids, attention_mask=attention_mask)\n",
        "            logits = outputs.logits\n",
        "            predictions = torch.argmax(logits, dim=1)\n",
        "\n",
        "            all_predictions.extend(predictions.cpu().numpy())\n",
        "            all_labels.extend(labels.cpu().numpy())\n",
        "\n",
        "    df = pd.DataFrame({'Actual': all_labels, 'Predicted': all_predictions})\n",
        "\n",
        "    overall_accuracy = accuracy_score(df['Actual'], df['Predicted'])\n",
        "    print(f\"Overall Accuracy: {overall_accuracy:.4f}\")\n",
        "\n",
        "    confusion_matrix = pd.crosstab(df['Actual'], df['Predicted'], rownames=['Actual'], colnames=['Predicted'], margins=True)\n",
        "    print(\"Confusion Matrix:\\n\", confusion_matrix)\n",
        "\n",
        "    class_accuracies = df.groupby('Actual').apply(lambda x: accuracy_score(x['Actual'], x['Predicted']))\n",
        "    print(\"Accuracy per class:\\n\", class_accuracies)\n",
        "\n",
        "    return overall_accuracy"
      ]
    },
    {
      "cell_type": "code",
      "execution_count": 16,
      "metadata": {},
      "outputs": [
        {
          "name": "stderr",
          "output_type": "stream",
          "text": [
            "100%|██████████| 938/938 [00:52<00:00, 17.82it/s]\n"
          ]
        },
        {
          "name": "stdout",
          "output_type": "stream",
          "text": [
            "Overall Accuracy: 0.5616\n",
            "Confusion Matrix:\n",
            " Predicted      0      1    2    All\n",
            "Actual                             \n",
            "0           9901   5014   85  15000\n",
            "1           7975   6948   77  15000\n",
            "All        17876  11962  162  30000\n",
            "Accuracy per class:\n",
            " Actual\n",
            "0    0.660067\n",
            "1    0.463200\n",
            "dtype: float64\n"
          ]
        },
        {
          "data": {
            "text/plain": [
              "0.5616333333333333"
            ]
          },
          "execution_count": 16,
          "metadata": {},
          "output_type": "execute_result"
        }
      ],
      "source": [
        "evaluate_model(bert, bert_hans_loader)"
      ]
    },
    {
      "cell_type": "code",
      "execution_count": 17,
      "metadata": {},
      "outputs": [
        {
          "name": "stderr",
          "output_type": "stream",
          "text": [
            "100%|██████████| 938/938 [00:54<00:00, 17.17it/s]\n"
          ]
        },
        {
          "name": "stdout",
          "output_type": "stream",
          "text": [
            "Overall Accuracy: 0.4983\n",
            "Confusion Matrix:\n",
            " Predicted      0    1  2    All\n",
            "Actual                         \n",
            "0          14846  153  1  15000\n",
            "1          14893  103  4  15000\n",
            "All        29739  256  5  30000\n",
            "Accuracy per class:\n",
            " Actual\n",
            "0    0.989733\n",
            "1    0.006867\n",
            "dtype: float64\n"
          ]
        },
        {
          "data": {
            "text/plain": [
              "0.4983"
            ]
          },
          "execution_count": 17,
          "metadata": {},
          "output_type": "execute_result"
        }
      ],
      "source": [
        "evaluate_model(albert, albert_hans_loader)"
      ]
    },
    {
      "cell_type": "code",
      "execution_count": 18,
      "metadata": {},
      "outputs": [
        {
          "name": "stderr",
          "output_type": "stream",
          "text": [
            "100%|██████████| 938/938 [00:52<00:00, 17.95it/s]\n"
          ]
        },
        {
          "name": "stdout",
          "output_type": "stream",
          "text": [
            "Overall Accuracy: 0.4292\n",
            "Confusion Matrix:\n",
            " Predicted      0     1     2    All\n",
            "Actual                             \n",
            "0          11887   561  2552  15000\n",
            "1          12219   990  1791  15000\n",
            "All        24106  1551  4343  30000\n",
            "Accuracy per class:\n",
            " Actual\n",
            "0    0.792467\n",
            "1    0.066000\n",
            "dtype: float64\n"
          ]
        },
        {
          "data": {
            "text/plain": [
              "0.42923333333333336"
            ]
          },
          "execution_count": 18,
          "metadata": {},
          "output_type": "execute_result"
        }
      ],
      "source": [
        "evaluate_model(roberta, roberta_hans_loader)"
      ]
    },
    {
      "cell_type": "markdown",
      "metadata": {},
      "source": [
        "### Ensemble 2 Models"
      ]
    },
    {
      "cell_type": "code",
      "execution_count": 58,
      "metadata": {},
      "outputs": [],
      "source": [
        "import pandas as pd\n",
        "import torch\n",
        "from sklearn.metrics import accuracy_score\n",
        "\n",
        "def evaluate_ensemble(model1, model2, model1_loader, model2_loader, ensemble_weights):\n",
        "    model1.eval() \n",
        "    model2.eval()\n",
        "    all_predictions = []\n",
        "    all_labels = []\n",
        "\n",
        "    with torch.no_grad():\n",
        "        for a_batch, b_batch in tqdm(zip(model1_loader, model2_loader), total=len(model1_loader)):\n",
        "            a_input_ids = a_batch['input_ids'].to(device)\n",
        "            a_attention_mask = a_batch['attention_mask'].to(device)\n",
        "            a_labels = a_batch['labels'].to(device)\n",
        "\n",
        "            a_outputs = model1(input_ids=a_input_ids, attention_mask=a_attention_mask)\n",
        "            a_logits = a_outputs.logits\n",
        "            a_probs = torch.softmax(a_logits, dim=1)\n",
        "\n",
        "            b_input_ids = b_batch['input_ids'].to(device)\n",
        "            b_attention_mask = b_batch['attention_mask'].to(device)\n",
        "            b_labels = b_batch['labels'].to(device)\n",
        "\n",
        "            b_outputs = model2(input_ids=b_input_ids, attention_mask=b_attention_mask)\n",
        "            b_logits = b_outputs.logits\n",
        "            b_probs = torch.softmax(b_logits, dim=1)\n",
        "\n",
        "            ensemble_probs = ensemble_weights[0] * a_probs + ensemble_weights[1] * b_probs\n",
        "            ensemble_preds = torch.argmax(ensemble_probs, dim=1)\n",
        "            all_predictions.extend(ensemble_preds.cpu().numpy())\n",
        "            all_labels.extend(b_labels.cpu().numpy())\n",
        "\n",
        "    df = pd.DataFrame({'Actual': all_labels, 'Predicted': all_predictions})\n",
        "\n",
        "    overall_accuracy = accuracy_score(df['Actual'], df['Predicted'])\n",
        "    print(f\"Overall Accuracy: {overall_accuracy:.4f}\")\n",
        "\n",
        "    # confusion_matrix = pd.crosstab(df['Actual'], df['Predicted'], rownames=['Actual'], colnames=['Predicted'], margins=True)\n",
        "    # print(\"Confusion Matrix:\\n\", confusion_matrix)\n",
        "\n",
        "    class_accuracies = df.groupby('Actual').apply(lambda x: accuracy_score(x['Actual'], x['Predicted']))\n",
        "    print(\"Accuracy per class:\\n\", class_accuracies)\n",
        "\n",
        "    return overall_accuracy"
      ]
    },
    {
      "cell_type": "markdown",
      "metadata": {},
      "source": [
        "### Grid Search for Best Weights (BERT + ALBERT)"
      ]
    },
    {
      "cell_type": "code",
      "execution_count": 60,
      "metadata": {},
      "outputs": [
        {
          "name": "stdout",
          "output_type": "stream",
          "text": [
            "Weights = BERT 0.1, ALBERT 0.9\n"
          ]
        },
        {
          "name": "stderr",
          "output_type": "stream",
          "text": [
            "100%|██████████| 938/938 [01:44<00:00,  8.97it/s]\n"
          ]
        },
        {
          "name": "stdout",
          "output_type": "stream",
          "text": [
            "Overall Accuracy: 0.4986\n",
            "Accuracy per class:\n",
            " Actual\n",
            "0    0.990533\n",
            "1    0.006667\n",
            "dtype: float64\n",
            "Weights = BERT 0.2, ALBERT 0.8\n"
          ]
        },
        {
          "name": "stderr",
          "output_type": "stream",
          "text": [
            "100%|██████████| 938/938 [01:43<00:00,  9.02it/s]\n"
          ]
        },
        {
          "name": "stdout",
          "output_type": "stream",
          "text": [
            "Overall Accuracy: 0.4992\n",
            "Accuracy per class:\n",
            " Actual\n",
            "0    0.9914\n",
            "1    0.0070\n",
            "dtype: float64\n",
            "Weights = BERT 0.30000000000000004, ALBERT 0.7\n"
          ]
        },
        {
          "name": "stderr",
          "output_type": "stream",
          "text": [
            "100%|██████████| 938/938 [01:44<00:00,  9.00it/s]\n"
          ]
        },
        {
          "name": "stdout",
          "output_type": "stream",
          "text": [
            "Overall Accuracy: 0.5018\n",
            "Accuracy per class:\n",
            " Actual\n",
            "0    0.979733\n",
            "1    0.023933\n",
            "dtype: float64\n",
            "Weights = BERT 0.4, ALBERT 0.6\n"
          ]
        },
        {
          "name": "stderr",
          "output_type": "stream",
          "text": [
            "100%|██████████| 938/938 [01:43<00:00,  9.04it/s]\n"
          ]
        },
        {
          "name": "stdout",
          "output_type": "stream",
          "text": [
            "Overall Accuracy: 0.5329\n",
            "Accuracy per class:\n",
            " Actual\n",
            "0    0.908533\n",
            "1    0.157267\n",
            "dtype: float64\n",
            "Weights = BERT 0.5, ALBERT 0.5\n"
          ]
        },
        {
          "name": "stderr",
          "output_type": "stream",
          "text": [
            "100%|██████████| 938/938 [01:44<00:00,  9.02it/s]\n"
          ]
        },
        {
          "name": "stdout",
          "output_type": "stream",
          "text": [
            "Overall Accuracy: 0.5514\n",
            "Accuracy per class:\n",
            " Actual\n",
            "0    0.838733\n",
            "1    0.264000\n",
            "dtype: float64\n",
            "Weights = BERT 0.6, ALBERT 0.4\n"
          ]
        },
        {
          "name": "stderr",
          "output_type": "stream",
          "text": [
            "100%|██████████| 938/938 [01:44<00:00,  9.01it/s]\n"
          ]
        },
        {
          "name": "stdout",
          "output_type": "stream",
          "text": [
            "Overall Accuracy: 0.5593\n",
            "Accuracy per class:\n",
            " Actual\n",
            "0    0.785533\n",
            "1    0.333000\n",
            "dtype: float64\n",
            "Weights = BERT 0.7000000000000001, ALBERT 0.29999999999999993\n"
          ]
        },
        {
          "name": "stderr",
          "output_type": "stream",
          "text": [
            "100%|██████████| 938/938 [01:44<00:00,  8.99it/s]\n"
          ]
        },
        {
          "name": "stdout",
          "output_type": "stream",
          "text": [
            "Overall Accuracy: 0.5626\n",
            "Accuracy per class:\n",
            " Actual\n",
            "0    0.743733\n",
            "1    0.381467\n",
            "dtype: float64\n",
            "Weights = BERT 0.8, ALBERT 0.19999999999999996\n"
          ]
        },
        {
          "name": "stderr",
          "output_type": "stream",
          "text": [
            "100%|██████████| 938/938 [01:45<00:00,  8.89it/s]\n"
          ]
        },
        {
          "name": "stdout",
          "output_type": "stream",
          "text": [
            "Overall Accuracy: 0.5620\n",
            "Accuracy per class:\n",
            " Actual\n",
            "0    0.708933\n",
            "1    0.415067\n",
            "dtype: float64\n",
            "Weights = BERT 0.9, ALBERT 0.09999999999999998\n"
          ]
        },
        {
          "name": "stderr",
          "output_type": "stream",
          "text": [
            "100%|██████████| 938/938 [01:44<00:00,  8.99it/s]\n"
          ]
        },
        {
          "name": "stdout",
          "output_type": "stream",
          "text": [
            "Overall Accuracy: 0.5616\n",
            "Accuracy per class:\n",
            " Actual\n",
            "0    0.680867\n",
            "1    0.442267\n",
            "dtype: float64\n",
            "[0.7000000000000001, 0.29999999999999993]\n"
          ]
        }
      ],
      "source": [
        "step = 0.1\n",
        "best_score = 0.0\n",
        "for bert_weight in np.arange(0.1, 0.9 + step, step):\n",
        "    roberta_weight = 1 - bert_weight\n",
        "    print(f\"Weights = BERT {bert_weight}, ALBERT {roberta_weight}\")\n",
        "    score = evaluate_ensemble(bert, albert, bert_hans_loader, albert_hans_loader, ensemble_weights=[bert_weight, roberta_weight])\n",
        "    if score > best_score:\n",
        "        best_score = score\n",
        "        best_weights = [bert_weight, roberta_weight]\n",
        "\n",
        "print(best_weights)"
      ]
    },
    {
      "cell_type": "markdown",
      "metadata": {},
      "source": [
        "### Grid Search for Best Weights (BERT + RoBERTa)"
      ]
    },
    {
      "cell_type": "code",
      "execution_count": 61,
      "metadata": {},
      "outputs": [
        {
          "name": "stdout",
          "output_type": "stream",
          "text": [
            "Weights = BERT 0.1, ROBERTA 0.9\n"
          ]
        },
        {
          "name": "stderr",
          "output_type": "stream",
          "text": [
            "100%|██████████| 938/938 [01:42<00:00,  9.17it/s]\n"
          ]
        },
        {
          "name": "stdout",
          "output_type": "stream",
          "text": [
            "Overall Accuracy: 0.4390\n",
            "Accuracy per class:\n",
            " Actual\n",
            "0    0.810667\n",
            "1    0.067400\n",
            "dtype: float64\n",
            "Weights = BERT 0.2, ROBERTA 0.8\n"
          ]
        },
        {
          "name": "stderr",
          "output_type": "stream",
          "text": [
            "100%|██████████| 938/938 [01:40<00:00,  9.33it/s]\n"
          ]
        },
        {
          "name": "stdout",
          "output_type": "stream",
          "text": [
            "Overall Accuracy: 0.4501\n",
            "Accuracy per class:\n",
            " Actual\n",
            "0    0.828067\n",
            "1    0.072200\n",
            "dtype: float64\n",
            "Weights = BERT 0.30000000000000004, ROBERTA 0.7\n"
          ]
        },
        {
          "name": "stderr",
          "output_type": "stream",
          "text": [
            "100%|██████████| 938/938 [01:41<00:00,  9.26it/s]\n"
          ]
        },
        {
          "name": "stdout",
          "output_type": "stream",
          "text": [
            "Overall Accuracy: 0.4654\n",
            "Accuracy per class:\n",
            " Actual\n",
            "0    0.848800\n",
            "1    0.082067\n",
            "dtype: float64\n",
            "Weights = BERT 0.4, ROBERTA 0.6\n"
          ]
        },
        {
          "name": "stderr",
          "output_type": "stream",
          "text": [
            "100%|██████████| 938/938 [01:41<00:00,  9.28it/s]\n"
          ]
        },
        {
          "name": "stdout",
          "output_type": "stream",
          "text": [
            "Overall Accuracy: 0.4883\n",
            "Accuracy per class:\n",
            " Actual\n",
            "0    0.868667\n",
            "1    0.107867\n",
            "dtype: float64\n",
            "Weights = BERT 0.5, ROBERTA 0.5\n"
          ]
        },
        {
          "name": "stderr",
          "output_type": "stream",
          "text": [
            "100%|██████████| 938/938 [01:40<00:00,  9.30it/s]\n"
          ]
        },
        {
          "name": "stdout",
          "output_type": "stream",
          "text": [
            "Overall Accuracy: 0.5166\n",
            "Accuracy per class:\n",
            " Actual\n",
            "0    0.862533\n",
            "1    0.170667\n",
            "dtype: float64\n",
            "Weights = BERT 0.6, ROBERTA 0.4\n"
          ]
        },
        {
          "name": "stderr",
          "output_type": "stream",
          "text": [
            "100%|██████████| 938/938 [01:41<00:00,  9.22it/s]\n"
          ]
        },
        {
          "name": "stdout",
          "output_type": "stream",
          "text": [
            "Overall Accuracy: 0.5442\n",
            "Accuracy per class:\n",
            " Actual\n",
            "0    0.8238\n",
            "1    0.2646\n",
            "dtype: float64\n",
            "Weights = BERT 0.7000000000000001, ROBERTA 0.29999999999999993\n"
          ]
        },
        {
          "name": "stderr",
          "output_type": "stream",
          "text": [
            "100%|██████████| 938/938 [01:41<00:00,  9.23it/s]\n"
          ]
        },
        {
          "name": "stdout",
          "output_type": "stream",
          "text": [
            "Overall Accuracy: 0.5565\n",
            "Accuracy per class:\n",
            " Actual\n",
            "0    0.774533\n",
            "1    0.338400\n",
            "dtype: float64\n",
            "Weights = BERT 0.8, ROBERTA 0.19999999999999996\n"
          ]
        },
        {
          "name": "stderr",
          "output_type": "stream",
          "text": [
            "100%|██████████| 938/938 [01:41<00:00,  9.25it/s]\n"
          ]
        },
        {
          "name": "stdout",
          "output_type": "stream",
          "text": [
            "Overall Accuracy: 0.5615\n",
            "Accuracy per class:\n",
            " Actual\n",
            "0    0.731533\n",
            "1    0.391533\n",
            "dtype: float64\n",
            "Weights = BERT 0.9, ROBERTA 0.09999999999999998\n"
          ]
        },
        {
          "name": "stderr",
          "output_type": "stream",
          "text": [
            "100%|██████████| 938/938 [01:41<00:00,  9.25it/s]\n"
          ]
        },
        {
          "name": "stdout",
          "output_type": "stream",
          "text": [
            "Overall Accuracy: 0.5619\n",
            "Accuracy per class:\n",
            " Actual\n",
            "0    0.691933\n",
            "1    0.431800\n",
            "dtype: float64\n",
            "[0.9, 0.09999999999999998]\n"
          ]
        }
      ],
      "source": [
        "step = 0.1\n",
        "best_score = 0.0\n",
        "for bert_weight in np.arange(0.1, 0.9 + step, step):\n",
        "    roberta_weight = 1 - bert_weight\n",
        "    print(f\"Weights = BERT {bert_weight}, ROBERTA {roberta_weight}\")\n",
        "    score = evaluate_ensemble(bert, roberta, bert_hans_loader, roberta_hans_loader, ensemble_weights=[bert_weight, roberta_weight])\n",
        "    if score > best_score:\n",
        "        best_score = score\n",
        "        best_weights = [bert_weight, roberta_weight]\n",
        "\n",
        "print(best_weights)"
      ]
    },
    {
      "cell_type": "markdown",
      "metadata": {},
      "source": [
        "### Ensemble BERT + ALBERT + RoBERTa "
      ]
    },
    {
      "cell_type": "code",
      "execution_count": 62,
      "metadata": {},
      "outputs": [],
      "source": [
        "import pandas as pd\n",
        "import torch\n",
        "from sklearn.metrics import accuracy_score\n",
        "from torch.utils.data import DataLoader\n",
        "\n",
        "def evaluate_ensemble_3(model1, model2, model3, model1_loader, model2_loader, model3_loader, ensemble_weights):\n",
        "    model1.eval()  # Set the model to evaluation mode\n",
        "    model2.eval()\n",
        "    model3.eval()\n",
        "    all_predictions = []\n",
        "    all_labels = []\n",
        "\n",
        "    with torch.no_grad():\n",
        "        for a_batch, b_batch, c_batch in tqdm(zip(model1_loader, model2_loader, model3_loader), total=len(model1_loader)):\n",
        "            a_input_ids = a_batch['input_ids'].to(device)\n",
        "            a_attention_mask = a_batch['attention_mask'].to(device)\n",
        "            a_labels = a_batch['labels'].to(device)\n",
        "\n",
        "            a_outputs = model1(input_ids=a_input_ids, attention_mask=a_attention_mask)\n",
        "            a_logits = a_outputs.logits\n",
        "            a_probs = torch.softmax(a_logits, dim=1)\n",
        "\n",
        "            b_input_ids = b_batch['input_ids'].to(device)\n",
        "            b_attention_mask = b_batch['attention_mask'].to(device)\n",
        "            b_labels = b_batch['labels'].to(device)\n",
        "\n",
        "            b_outputs = model2(input_ids=b_input_ids, attention_mask=b_attention_mask)\n",
        "            b_logits = b_outputs.logits\n",
        "            b_probs = torch.softmax(b_logits, dim=1)\n",
        "\n",
        "            c_input_ids = c_batch['input_ids'].to(device)\n",
        "            c_attention_mask = c_batch['attention_mask'].to(device)\n",
        "            c_labels = c_batch['labels'].to(device)\n",
        "\n",
        "            c_outputs = model3(input_ids=c_input_ids, attention_mask=c_attention_mask)\n",
        "            c_logits = c_outputs.logits\n",
        "            c_probs = torch.softmax(c_logits, dim=1)\n",
        "\n",
        "            ensemble_probs = ensemble_weights[0] * a_probs + ensemble_weights[1] * b_probs + ensemble_weights[2] * c_probs\n",
        "            ensemble_preds = torch.argmax(ensemble_probs, dim=1)\n",
        "            all_predictions.extend(ensemble_preds.cpu().numpy())\n",
        "            all_labels.extend(c_labels.cpu().numpy())\n",
        "\n",
        "    df = pd.DataFrame({'Actual': all_labels, 'Predicted': all_predictions})\n",
        "\n",
        "    overall_accuracy = accuracy_score(df['Actual'], df['Predicted'])\n",
        "    print(f\"Overall Accuracy: {overall_accuracy:.4f}\")\n",
        "\n",
        "    # confusion_matrix = pd.crosstab(df['Actual'], df['Predicted'], rownames=['Actual'], colnames=['Predicted'], margins=True)\n",
        "    # print(\"Confusion Matrix:\\n\", confusion_matrix)\n",
        "\n",
        "    class_accuracies = df.groupby('Actual').apply(lambda x: accuracy_score(x['Actual'], x['Predicted']))\n",
        "    print(\"Accuracy per class:\\n\", class_accuracies)\n",
        "\n",
        "    return overall_accuracy"
      ]
    },
    {
      "cell_type": "code",
      "execution_count": 63,
      "metadata": {},
      "outputs": [
        {
          "name": "stderr",
          "output_type": "stream",
          "text": [
            "100%|██████████| 938/938 [02:33<00:00,  6.12it/s]\n"
          ]
        },
        {
          "name": "stdout",
          "output_type": "stream",
          "text": [
            "Overall Accuracy: 0.5088\n",
            "Accuracy per class:\n",
            " Actual\n",
            "0    0.957600\n",
            "1    0.059933\n",
            "dtype: float64\n"
          ]
        },
        {
          "data": {
            "text/plain": [
              "0.5087666666666667"
            ]
          },
          "execution_count": 63,
          "metadata": {},
          "output_type": "execute_result"
        }
      ],
      "source": [
        "evaluate_ensemble_3(bert, albert, roberta, bert_hans_loader, albert_hans_loader, roberta_hans_loader, ensemble_weights=[0.33, 0.33, 0.33])"
      ]
    }
  ],
  "metadata": {
    "accelerator": "GPU",
    "colab": {
      "collapsed_sections": [],
      "include_colab_link": true,
      "name": "Sentence Entailment BERT.ipynb",
      "provenance": []
    },
    "kernelspec": {
      "display_name": "Python 3",
      "name": "python3"
    },
    "language_info": {
      "codemirror_mode": {
        "name": "ipython",
        "version": 3
      },
      "file_extension": ".py",
      "mimetype": "text/x-python",
      "name": "python",
      "nbconvert_exporter": "python",
      "pygments_lexer": "ipython3",
      "version": "3.10.13"
    }
  },
  "nbformat": 4,
  "nbformat_minor": 0
}
